{
 "cells": [
  {
   "cell_type": "markdown",
   "metadata": {},
   "source": [
    "# Clasificación Automática \n",
    "\n",
    "## Qué es la inteligencia artificia?\n",
    "\n",
    "Area de las ciencias de computación dedicada a diseñar sisteamas de computo que aprendan, decidan y solucionen problemas.  \n",
    "- Test de Turing (juego de la imitación)\n",
    "    - hay 2 humanos y una maquina, el humano no debe saber cuál de los otros dos es la máquina. \n",
    "\n",
    "## Aprendizaje automático \n",
    "Aprender en datos de entrada para lograr clasificar datos a futuro \n",
    "\n",
    "Las máquinas han logrado \n",
    "- colorear \n",
    "- manejar un auto \n",
    "- jugar \n",
    "\n",
    "## Partes\n",
    "- nodos de entrada \n",
    "- nodos intermedios u ocultos \n",
    "- nodos de salida \n",
    "- Pesos \n",
    "- dan como salida un 0 o un 1 \n",
    "- suma \n",
    "- Función de activación \n",
    "- output \n",
    "\n",
    "Diferencia entre deep learning y red neuronal? \n",
    "si se usan matrices y funciones por qué no es más en R? \n",
    "\n",
    "Red neuonal: funcion que trabaja con vectores internos que al final activan uno solo de los nodos de salida. \n",
    "\n",
    "[Red neuronal y dibujos](https://quickdraw.withgoogle.com)\n",
    "\n",
    "- vector de 784 componentes \n",
    "- cada uno es un nodo de entrada a la red \n",
    "\n",
    "## Redes neuronales \n",
    "[video redes neuronales](https://www.youtube.com/watch?v=MRIv2IwFTPg)\n",
    "variables de entrada que definen una regla o un hiperplano, la neurona lo que hace es una regresión lineal, bias es otra conexión en el que la variable siempre está asignada a uno \n",
    "\n",
    "## Genómica \n",
    "\n",
    "Reconocimiento de entidades u objetos \n",
    "- Enhancers en dna \n",
    "- histonas en cierta condición \n",
    "- detectar regiones coding vs non-coding \n",
    "- etiquetado de genomas completos \n",
    "- Datos inputados (faltantes)\n",
    "- ENCODE concurso para descubrir regiones ausentes en el cubo de información \n",
    "\n",
    " Autoencoder: Recibe una matriz de entrada (resultados de métodos de expresión) y reconstruye la misma entrada como salida. Representación comparta y densa \n",
    "\n",
    "## Perspectiva \n",
    "- predicción pero no entendimiento del problema \n",
    "- da solución pero no explicación \n",
    "- correlaciona datos pero no causa \n",
    "- Hipótesis pero no llega a conclusiones \n",
    "\n",
    "\n",
    "tipo de arquitectura de red neuronal que combina distintos tipos \n",
    "- full conected \n",
    "- combinar diferentes arquitecturas \n",
    "    - red neuronal convulusional \n",
    "    - autoencoders \n"
   ]
  },
  {
   "cell_type": "markdown",
   "metadata": {},
   "source": [
    "# Clasificación Automática \n",
    "Aprendizaje supervisado \n",
    "## Aprendizaje de máquina \n",
    "Estudio y desarrollo de algoritmos que pueden \"aprender\" a partir de datos y hacer predicciones sobre ellos. \n",
    "\n",
    "Esos algoritmos construyen un modelo a partir de los datos para hacer predicciones o \"tomar decisiones. \n",
    "\n",
    "\n",
    "Algoritmo: serie de pasos finitos y ordenados para resolver un problema \n",
    "Quién hace el algoritmo? \n",
    "- una persona \n",
    "- una computadora \n",
    "\n",
    "¿Cuando puede usarse?\n",
    "- Problemas muy compejos \n",
    "- Muchos datos y muchas variables \n",
    "- Solución en relativamente poco tiempo comparado con lo que tardaría una persona en hacer el algoritmo \n",
    "- No se requiere un entendimiento completo del fenómeno (patrones de los datos) \n",
    "[enlace aprendizaje de maquina]()\n",
    "\n",
    "## 2 tipos \n",
    "\n",
    "- **Supervisado**: La computadora recibe ejemplos de entrada asignados a un valor o clase (target) a partir de los cuales aprende patrones para predecir el valor o clase de nuevos ejemplos \n",
    "- **No supervisado** : Solo recibe datos de entrada y tiene que descubrir patrones de relaciones en esos datos, por ejemplo, cómo se organizan los datos (clustering) \n",
    "\n",
    "### Spam vs no spam \n",
    "- input correo \n",
    "- algoritmo : sustituimos el conocimiento de cómo hacer el algoritmo por ejemplos o datos manualmente clasificados por una persona, se los paso a una algoritmo de predicción  \n",
    "- salida es spam o no es spam\n",
    "\n",
    "### Aprendizaje supervisado \n",
    "- gatos vs no gatos \n",
    "- se divide en dos \n",
    "    - clasificación: se predicen categorias o etiquetas (gatos vs no), cancer a partir de mastografía, genomas completos y regiones genomicas en clase \n",
    "    - regresion: identificar valores numericos, predecir datos de covid a partir de datos que se tienen, indice de obesidad en méxico \n",
    "    \n",
    "[machine learning applications in genetics and genomics, Maxwell W. Libbrecht y William Stafford Noble](https://www.nature.com/articles/nrg3920#article-info)\n",
    "\n",
    "\n",
    "## Aprendizaje supervisado (supervised learning) \n",
    "\n",
    "- ejemplos: objeto, vector, instancia, registro \n",
    "    - ejemplos de lo que quieres clasificar \n",
    "    \n",
    "- clase: etiqueta asignada a cada ejemplo clasificado \n",
    "    - tipos de galaxias\n",
    "    - areas de especialidad médica\n",
    "- Características: atributos de los ejemplos que serán usados para clasificarlos \n",
    "    - palabras del titulo, abstract, revista de publicación \n",
    "    - características de regiones genómicas: frecuencia de ATCG\n",
    "    - genes de expresión: valores de expresión\n",
    "- Conjunto de datos de entrenamiento \n",
    "    - Conjunto de ejemplos previamente clasificados \n",
    "- Conjunto de datos de validación \n",
    "    - Conjunto de ejemplos previamente clasificados usados para medir el rendimiento de varios modelos predictivos y seleccionar el mejor , para poner a competir los modelos\n",
    "- Conjunto de datos de evaluación\n",
    "    - Conjunto de ejemplos preciamente clasificados que serán clasificados usando el mejor modelo predictivo para su renimiento, medida \n",
    "- Modelo clasificador \n",
    "    - función que recibe los valores de las características de un ejemplo y regres su correspondeiente, producto del entrenamiento \n",
    "    - support vector machine\n",
    "    - neural network\n",
    "    \n",
    "## Dos problemas de clasificación automática \n",
    "- Binaria \n",
    "    - se predice entre dos clases \n",
    "- Multiclase \n",
    "    - más de dos clase (muchas veces se ataca\n",
    "    - one-of (single-label) clases mutuamente excluyentes\n",
    "    - any-of (multilabel) clases no son mutuamente excluyentes \n",
    " \n",
    "## Modelo de selección  \n",
    "cuando tenemos pocos datos solo dividimos en dos \n",
    "- model fitting (k-fold cross validation) \n",
    "    - k=10 entonces se divide en 10 folds, el 1 , 2,3,...,n\n",
    "    - Utiliza k -1 folds para entrenar y un fold para evaluar\n",
    "    - Luego cambiamos el fold de validación y los otros k-2 para evaluar \n",
    "    - asi hasta que usamos todos para entrenar y todos para evaluar \n",
    "\n",
    "![Clasificación con muchos y pocos datos](images/clasificacion-muchos-pocos.png)\n",
    "\n",
    "\n",
    "## Medidas de evaluación \n",
    "Se calculan como verdaders positivas VN, FP y FN en clasifiación binaria \n",
    "- precision\n",
    "\n",
    "$\\frac{tp}{tp+fp}$\n",
    "\n",
    "- recall (sensitivity)\n",
    "$tp/tp+fn$\n",
    "\n",
    "![precision y recall](images/precision-recall.png)\n",
    "\n",
    "- F-score \n",
    "$precision* reacall/ precision+recall$\n",
    "\n",
    "- matriz de confusion \n",
    "-  auroc\n",
    "- curvas de evaluacion \n",
    "     - Precision-Recall curve \n",
    "         - util cuando los datos son muy desbalanceados \n",
    "         - muestra el balance entre la precision y el recall para diferentes umbrales \n",
    "         - gran area bajo la curva representa un alto recall y una alta precision \n",
    "         - (recall es bajo al principio pues lleva pocos) \n",
    "     - Curva ROC(reciever operating characteristics)\n",
    "         -  ROC curve represent ala tasa de verdaderos positivos en el eje Y u la tasa de falsos positivos en el eje X \n",
    "         - La esquina superior izquierda e el punto ideal \n",
    "\n",
    "![curva Roc](images/curva-roc.png)\n",
    "\n",
    "- Un modelo con mejor precision dice que lo que dice que es clase positiva seguramente es clase positiva \n",
    "- Un modelo con mejor recall lo que te dice que es clase positiva no forzosamente lo será pero te da muchos, si equivocarte en tu predicción no es tan crucial y prefieres predecir muchos casos nuevos \n",
    "- f alta es el balance de la precision y el recall \n",
    "[The 7 steps of machine learning](https://www.youtube.com/watch?v=nKW8Ndu7Mjw)"
   ]
  },
  {
   "cell_type": "markdown",
   "metadata": {},
   "source": [
    "Entre más datos le des será mejor la predicción \n",
    "- Puede ser que se está sobreajustando la máquina \n",
    "\n",
    "![deep learning](images/deep-learning.png)\n",
    "\n",
    "## Vector Space Classification\n",
    "- Representa cada ejemplo como un vector en un espacio n-dimensional \n",
    "    - Si la galaxia está descrita con 20 características entonces son 20 dimensiones la del espacio vectorial \n",
    "    - profesion, edad, país (espacio vectorial de entrada de 3 dimensiones) \n",
    "    - Características a partir de datos textuales \n",
    "        - palabras (un espacio auto casa grand)\n",
    "            - se construye un vocabulario (palabras únicas en todo el documento \n",
    "                - puede también cuantificarse la frecuencia de aparición de una palabra \n",
    "                - TF IDF se le pone un peso a una palabra \n",
    "                - se calcula una distancia euclidiana\n",
    "                    - la menor distancia como más parecidos \n",
    "                    $\\sqrt{}sum{)(A_i-B_i)^2}$\n",
    "```\n",
    "                   un espacio auto casa grande\n",
    "un auto grande     1  0       1    0      1 \n",
    "un espacio grande  1  1       0    0      1 \n",
    "casa grande        0  0       0    1      1\n",
    "```\n",
    "### Hipotesis de contigüidad: \n",
    "Los ejemplos de la misma clase forman una región contigua y regiones de diferentes clases no se traslapan \n",
    "- En dos dimiensiones, un clasificador lineal es una linea (hiperplano) que separa dos clases \n",
    "    - se le denomina problema linealmente separable si existe un hiperplano separador \n",
    "    - hay un número infinito posible de hiperplanos separadores\n",
    "    - Es necesario un criterio de selección del mejor hiperplano \n",
    "        - Existe un límite de clases (class boundary), límite real entre dos clases \n",
    "        - Ejemplos ruido\n",
    "            - Estan en clavados en la otra clase \n",
    "\n",
    "## Rocchio classification \n",
    "Divide un espacio vectorial en regiones asociadas a centroides (prototipos) uno por clase \n",
    "- Es simple y eficiente pero impreciso en clsases que no sean aproximadamente esferas con radio similar \n",
    "- Para clasificar un ejemmplo se determina la región donde aparece \n",
    "- la tarea de un clasificador basado en espacio de vectores es calcular buenos límites (boundaries \n",
    "- Buenos límites\n",
    "    - con alto nivel de exactitud en la clasificación de nuevos datos (no observados en el training set) \n",
    "- usa centroides para definir los límites \n",
    "    - Es el vector promedio de sus miembros \n",
    "    - limite entre dos clases es el conjunto de puntos con igual distancia de dos centroides \n",
    "    - Para clasificar un ejemplo se encuentra el centroide más cercano y le asigna dicha clase \n",
    "- Su problema es que las clases no se parecen a una esfera o a un círculo con radio similar, hay problemas\n",
    "\n",
    "![rocchio classification](images/rocchio-classif.png)\n",
    "\n",
    "## k nearest neightbour classification \n",
    "Asigna la clase mayoritaria de los K vecinos cercanoos al ejemplo a clasificar en lugar de usar el centoide más cercano \n",
    "\n",
    "- Es  menos eficiente en clasifiación de documentos \n",
    "- No requiere entrenamiento explícito \n",
    "- Si el training set es grande puede trabajar mejor que el rocchio en estructuras no esféricas \n",
    "- 1NN es el one nearest neighbour \n",
    "- kNN es un k > a 1 \n",
    "    - k se selecciona con base en la experiencia y el conocimiento \n",
    "        - $k =3$ y $k =5$ son los más comunes \n",
    "        - iteración de aprendizaje para probar el mejor valor de $k$\n",
    "    - se asigna una probabilidad a cada vecino \n",
    "    - se puede ponderara al más cercano más peso y a los no tan cercanos menos \n",
    "    - no hay estimación de parámetros como en Rocchio classification(centroides) o en Naive Bayes(probabilidad a priori y condicionales) \n",
    "    - Simplemente memoriza todos los ejemplos del training set y compara el test set con ellos \n",
    "        - memory-based learning o instance-based learning\n",
    "\n",
    "## Support Vector Machines \n",
    "\n",
    "Busca un hiperplano que tenga la máxima distncia (máximo margen) con los puntos(ejemplos) que estén más cerca del mismo \n",
    "\n",
    "- Elementos \n",
    "    - Margen (margin)\n",
    "        - distancia de la superficie de decisión al punto (ejemplo) más cercano \n",
    "    - Función de decisión \n",
    "        - depende de un subconjunto de datos que definen la posición del separador \n",
    "    - Vectores de soporte \n",
    "        - son los puntos que sirven para maximizar la región \n",
    "- Te puede decir la probabilidad de que pertenezca a una clase o a otra \n",
    "- aunque puedas hacer una transformaciones dimensionales, existe pérdida de la dimensionalidad \n",
    "        \n",
    "![support vector machine](images/svm.png)\n",
    "\n",
    "\n",
    "[scikit-learn](https://scikit-learn.org/stable/)"
   ]
  },
  {
   "cell_type": "markdown",
   "metadata": {},
   "source": [
    "## Distancia Euclidiana "
   ]
  },
  {
   "cell_type": "code",
   "execution_count": null,
   "metadata": {},
   "outputs": [],
   "source": [
    "import numpy as np\n",
    "from numpy.linalg import norm\n",
    "\n",
    "d1 = np.array([1, 0, 1, 0, 1])\n",
    "d2 = np.array([1, 1, 0, 0, 1])\n",
    "d3 = np.array([0, 0, 0, 1, 1])\n",
    "print(d1)\n",
    "print(d2)\n",
    "print(d3)\n"
   ]
  },
  {
   "cell_type": "code",
   "execution_count": null,
   "metadata": {},
   "outputs": [],
   "source": [
    "dist_e = norm(d2-d1)\n",
    "print(\"Distancia euclidiana entre d1 y d2: {}\".format(dist_e))"
   ]
  },
  {
   "cell_type": "code",
   "execution_count": null,
   "metadata": {},
   "outputs": [],
   "source": [
    "dist_e = norm(d2-d3)\n",
    "print(\"Distancia euclidiana entre d1 y d3: {}\".format(dist_e))"
   ]
  },
  {
   "cell_type": "markdown",
   "metadata": {},
   "source": [
    "# Clasificación k nearest neighbour"
   ]
  },
  {
   "cell_type": "code",
   "execution_count": 2,
   "metadata": {},
   "outputs": [
    {
     "name": "stdout",
     "output_type": "stream",
     "text": [
      ".. _iris_dataset:\n",
      "\n",
      "Iris plants dataset\n",
      "--------------------\n",
      "\n",
      "**Data Set Characteristics:**\n",
      "\n",
      "    :Number of Instances: 150 (50 in each of three classes)\n",
      "    :Number of Attributes: 4 numeric, predictive attributes and the class\n",
      "    :Attribute Information:\n",
      "        - sepal length in cm\n",
      "        - sepal width in cm\n",
      "        - petal length in cm\n",
      "        - petal width in cm\n",
      "        - class:\n",
      "                - Iris-Setosa\n",
      "                - Iris-Versicolour\n",
      "                - Iris-Virginica\n",
      "                \n",
      "    :Summary Statistics:\n",
      "\n",
      "    ============== ==== ==== ======= ===== ====================\n",
      "                    Min  Max   Mean    SD   Class Correlation\n",
      "    ============== ==== ==== ======= ===== ====================\n",
      "    sepal length:   4.3  7.9   5.84   0.83    0.7826\n",
      "    sepal width:    2.0  4.4   3.05   0.43   -0.4194\n",
      "    petal length:   1.0  6.9   3.76   1.76    0.9490  (high!)\n",
      "    petal width:    0.1  2.5   1.20   0.76    0.9565  (high!)\n",
      "    ============== ==== ==== ======= ===== ====================\n",
      "\n",
      "    :Missing Attribute Values: None\n",
      "    :Class Distribution: 33.3% for each of 3 classes.\n",
      "    :Creator: R.A. Fisher\n",
      "    :Donor: Michael Marshall (MARSHALL%PLU@io.arc.nasa.gov)\n",
      "    :Date: July, 1988\n",
      "\n",
      "The famous Iris database, first used by Sir R.A. Fisher. The dataset is taken\n",
      "from Fisher's paper. Note that it's the same as in R, but not as in the UCI\n",
      "Machine Learning Repository, which has two wrong data points.\n",
      "\n",
      "This is perhaps the best known database to be found in the\n",
      "pattern recognition literature.  Fisher's paper is a classic in the field and\n",
      "is referenced frequently to this day.  (See Duda & Hart, for example.)  The\n",
      "data set contains 3 classes of 50 instances each, where each class refers to a\n",
      "type of iris plant.  One class is linearly separable from the other 2; the\n",
      "latter are NOT linearly separable from each other.\n",
      "\n",
      ".. topic:: References\n",
      "\n",
      "   - Fisher, R.A. \"The use of multiple measurements in taxonomic problems\"\n",
      "     Annual Eugenics, 7, Part II, 179-188 (1936); also in \"Contributions to\n",
      "     Mathematical Statistics\" (John Wiley, NY, 1950).\n",
      "   - Duda, R.O., & Hart, P.E. (1973) Pattern Classification and Scene Analysis.\n",
      "     (Q327.D83) John Wiley & Sons.  ISBN 0-471-22361-1.  See page 218.\n",
      "   - Dasarathy, B.V. (1980) \"Nosing Around the Neighborhood: A New System\n",
      "     Structure and Classification Rule for Recognition in Partially Exposed\n",
      "     Environments\".  IEEE Transactions on Pattern Analysis and Machine\n",
      "     Intelligence, Vol. PAMI-2, No. 1, 67-71.\n",
      "   - Gates, G.W. (1972) \"The Reduced Nearest Neighbor Rule\".  IEEE Transactions\n",
      "     on Information Theory, May 1972, 431-433.\n",
      "   - See also: 1988 MLC Proceedings, 54-64.  Cheeseman et al\"s AUTOCLASS II\n",
      "     conceptual clustering system finds 3 classes in the data.\n",
      "   - Many, many more ...\n"
     ]
    }
   ],
   "source": [
    "# Cargar una data set muy famoso de plantas \n",
    "from sklearn.datasets import load_iris\n",
    "\n",
    "iris = load_iris()\n",
    "# Da infromación del set de datos \n",
    "# 150 instancias, ejemplos \n",
    "# 4 atributos o características numericos (4 predictores y 3 clase)\n",
    "# El problema es de clasifiación es one of, son mutuamente excluyentes, solamente asignaremos una clase a cada ejemplo\n",
    "print(iris.DESCR)"
   ]
  },
  {
   "cell_type": "code",
   "execution_count": 5,
   "metadata": {},
   "outputs": [
    {
     "name": "stdout",
     "output_type": "stream",
     "text": [
      "[[5.1 3.5 1.4 0.2]\n",
      " [4.9 3.  1.4 0.2]\n",
      " [4.7 3.2 1.3 0.2]\n",
      " [4.6 3.1 1.5 0.2]\n",
      " [5.  3.6 1.4 0.2]]\n",
      "[0 0 0 0 0]\n"
     ]
    }
   ],
   "source": [
    "from sklearn.model_selection import train_test_split\n",
    "\n",
    "# Leemos conjunto de ejemplos\n",
    "X = iris.data\n",
    "print(X[:5])\n",
    "# Leemos valores de clase para cada ejemplo\n",
    "y = iris.target\n",
    "print(y[:5])\n",
    "# Separamos el dataset en dos: entrenamiento y evaluación\n",
    "X_train, X_test, y_train, y_test = train_test_split(X, y, test_size=0.30, random_state=0)"
   ]
  },
  {
   "cell_type": "code",
   "execution_count": 8,
   "metadata": {},
   "outputs": [
    {
     "name": "stdout",
     "output_type": "stream",
     "text": [
      "KNeighborsClassifier(n_neighbors=1)\n",
      "[[5.8 2.8 5.1 2.4]\n",
      " [6.  2.2 4.  1. ]\n",
      " [5.5 4.2 1.4 0.2]\n",
      " [7.3 2.9 6.3 1.8]\n",
      " [5.  3.4 1.5 0.2]]\n",
      "[2 1 0 2 0]\n",
      "[]\n"
     ]
    },
    {
     "data": {
      "text/plain": [
       "<function print>"
      ]
     },
     "execution_count": 8,
     "metadata": {},
     "output_type": "execute_result"
    }
   ],
   "source": [
    "from sklearn.neighbors import KNeighborsClassifier\n",
    "\n",
    "# Clasificación K Nearest neighbors \n",
    "k = 1\n",
    "# Definición del clasificador\n",
    "classifier = KNeighborsClassifier(n_neighbors=k)\n",
    "# Entrenamiento del clasificador con lo datos de entrenamiento y valores de clase para cada ejemplo\n",
    "classifier.fit(X_train, y_train)\n",
    "# Predicción con el clasificador entrenado en los datos de evaluación \n",
    "y_predict = classifier.predict(X_test)\n",
    "print(classifier)\n",
    "print(X_test[:5])\n",
    "print(y_predict[:5])\n",
    "print([])\n"
   ]
  },
  {
   "cell_type": "code",
   "execution_count": 9,
   "metadata": {},
   "outputs": [
    {
     "name": "stdout",
     "output_type": "stream",
     "text": [
      "Accuracy: 0.9777777777777777\n",
      "Precision: 0.9722222222222222\n",
      "Recall: 0.9814814814814815\n",
      "F-score: 0.975983436853002\n"
     ]
    }
   ],
   "source": [
    "# Medidas de rendimiento del clasificador\n",
    "from sklearn.metrics import accuracy_score\n",
    "from sklearn.metrics import f1_score\n",
    "from sklearn.metrics import precision_score\n",
    "from sklearn.metrics import recall_score\n",
    "\n",
    "print(\"Accuracy: {}\".format(accuracy_score(y_test, y_predict)))\n",
    "print(\"Precision: {}\".format(precision_score(y_test, y_predict, average=\"macro\")))\n",
    "print(\"Recall: {}\".format(recall_score(y_test, y_predict, average=\"macro\")))\n",
    "print(\"F-score: {}\".format(f1_score(y_test, y_predict, average=\"macro\")))"
   ]
  },
  {
   "cell_type": "code",
   "execution_count": 10,
   "metadata": {},
   "outputs": [
    {
     "name": "stdout",
     "output_type": "stream",
     "text": [
      "                  precision    recall  f1-score   support\n",
      "\n",
      "     Iris-Setosa       1.00      1.00      1.00        16\n",
      "Iris-Versicolour       1.00      0.94      0.97        18\n",
      "  Iris-Virginica       0.92      1.00      0.96        11\n",
      "\n",
      "        accuracy                           0.98        45\n",
      "       macro avg       0.97      0.98      0.98        45\n",
      "    weighted avg       0.98      0.98      0.98        45\n",
      "\n"
     ]
    }
   ],
   "source": [
    "from sklearn.metrics import classification_report\n",
    "\n",
    "target_names = ['Iris-Setosa', 'Iris-Versicolour', 'Iris-Virginica']\n",
    "print(classification_report(y_test, y_predict, target_names=target_names))"
   ]
  },
  {
   "cell_type": "code",
   "execution_count": 11,
   "metadata": {},
   "outputs": [
    {
     "name": "stdout",
     "output_type": "stream",
     "text": [
      "[[16  0  0]\n",
      " [ 0 17  1]\n",
      " [ 0  0 11]]\n"
     ]
    },
    {
     "data": {
      "text/plain": [
       "<sklearn.metrics._plot.confusion_matrix.ConfusionMatrixDisplay at 0x7f82219ae5b0>"
      ]
     },
     "execution_count": 11,
     "metadata": {},
     "output_type": "execute_result"
    },
    {
     "data": {
      "image/png": "[encoded data removed]",
      "text/plain": [
       "<Figure size 432x288 with 2 Axes>"
      ]
     },
     "metadata": {
      "needs_background": "light"
     },
     "output_type": "display_data"
    }
   ],
   "source": [
    "from sklearn.metrics import confusion_matrix\n",
    "import matplotlib.pyplot as plt\n",
    "from sklearn.metrics import plot_confusion_matrix\n",
    "\n",
    "print(confusion_matrix(y_test, y_predict))\n",
    "plot_confusion_matrix(classifier, X_test, y_test, cmap=plt.cm.Blues, \n",
    "                      display_labels=['Iris-Setosa', 'Iris-Versicolour', 'Iris-Virginica']) "
   ]
  },
  {
   "cell_type": "code",
   "execution_count": null,
   "metadata": {},
   "outputs": [],
   "source": [
    "# Predecir valor de clase de nuevo ejemplo \n",
    "print(classifier.predict([[10.0,5.0,7.8,0.1]]))\n",
    "\n",
    "# PRedecir probabilidades de clase de nuevo ejemplo \n",
    "print(classifier.predict_proba([[10.0,5.0,7.8,0.1]]))\n",
    "\n",
    "# PRedecir probailidad de clases de nuevo ejemplo \n",
    "print(classifier.kneighbors([[10.0,5.0,7.8,0.1]]))\n",
    "\n"
   ]
  },
  {
   "cell_type": "markdown",
   "metadata": {},
   "source": [
    "# Clasificación SVM "
   ]
  },
  {
   "cell_type": "code",
   "execution_count": 12,
   "metadata": {},
   "outputs": [
    {
     "name": "stdout",
     "output_type": "stream",
     "text": [
      ".. _iris_dataset:\n",
      "\n",
      "Iris plants dataset\n",
      "--------------------\n",
      "\n",
      "**Data Set Characteristics:**\n",
      "\n",
      "    :Number of Instances: 150 (50 in each of three classes)\n",
      "    :Number of Attributes: 4 numeric, predictive attributes and the class\n",
      "    :Attribute Information:\n",
      "        - sepal length in cm\n",
      "        - sepal width in cm\n",
      "        - petal length in cm\n",
      "        - petal width in cm\n",
      "        - class:\n",
      "                - Iris-Setosa\n",
      "                - Iris-Versicolour\n",
      "                - Iris-Virginica\n",
      "                \n",
      "    :Summary Statistics:\n",
      "\n",
      "    ============== ==== ==== ======= ===== ====================\n",
      "                    Min  Max   Mean    SD   Class Correlation\n",
      "    ============== ==== ==== ======= ===== ====================\n",
      "    sepal length:   4.3  7.9   5.84   0.83    0.7826\n",
      "    sepal width:    2.0  4.4   3.05   0.43   -0.4194\n",
      "    petal length:   1.0  6.9   3.76   1.76    0.9490  (high!)\n",
      "    petal width:    0.1  2.5   1.20   0.76    0.9565  (high!)\n",
      "    ============== ==== ==== ======= ===== ====================\n",
      "\n",
      "    :Missing Attribute Values: None\n",
      "    :Class Distribution: 33.3% for each of 3 classes.\n",
      "    :Creator: R.A. Fisher\n",
      "    :Donor: Michael Marshall (MARSHALL%PLU@io.arc.nasa.gov)\n",
      "    :Date: July, 1988\n",
      "\n",
      "The famous Iris database, first used by Sir R.A. Fisher. The dataset is taken\n",
      "from Fisher's paper. Note that it's the same as in R, but not as in the UCI\n",
      "Machine Learning Repository, which has two wrong data points.\n",
      "\n",
      "This is perhaps the best known database to be found in the\n",
      "pattern recognition literature.  Fisher's paper is a classic in the field and\n",
      "is referenced frequently to this day.  (See Duda & Hart, for example.)  The\n",
      "data set contains 3 classes of 50 instances each, where each class refers to a\n",
      "type of iris plant.  One class is linearly separable from the other 2; the\n",
      "latter are NOT linearly separable from each other.\n",
      "\n",
      ".. topic:: References\n",
      "\n",
      "   - Fisher, R.A. \"The use of multiple measurements in taxonomic problems\"\n",
      "     Annual Eugenics, 7, Part II, 179-188 (1936); also in \"Contributions to\n",
      "     Mathematical Statistics\" (John Wiley, NY, 1950).\n",
      "   - Duda, R.O., & Hart, P.E. (1973) Pattern Classification and Scene Analysis.\n",
      "     (Q327.D83) John Wiley & Sons.  ISBN 0-471-22361-1.  See page 218.\n",
      "   - Dasarathy, B.V. (1980) \"Nosing Around the Neighborhood: A New System\n",
      "     Structure and Classification Rule for Recognition in Partially Exposed\n",
      "     Environments\".  IEEE Transactions on Pattern Analysis and Machine\n",
      "     Intelligence, Vol. PAMI-2, No. 1, 67-71.\n",
      "   - Gates, G.W. (1972) \"The Reduced Nearest Neighbor Rule\".  IEEE Transactions\n",
      "     on Information Theory, May 1972, 431-433.\n",
      "   - See also: 1988 MLC Proceedings, 54-64.  Cheeseman et al\"s AUTOCLASS II\n",
      "     conceptual clustering system finds 3 classes in the data.\n",
      "   - Many, many more ...\n"
     ]
    }
   ],
   "source": [
    "from sklearn.datasets import load_iris\n",
    "# cargar set de datos e imprimir descripción\n",
    "iris = load_iris()\n",
    "print(iris.DESCR)"
   ]
  },
  {
   "cell_type": "code",
   "execution_count": 14,
   "metadata": {},
   "outputs": [
    {
     "name": "stdout",
     "output_type": "stream",
     "text": [
      "[[5.1 3.5 1.4 0.2]\n",
      " [4.9 3.  1.4 0.2]\n",
      " [4.7 3.2 1.3 0.2]\n",
      " [4.6 3.1 1.5 0.2]\n",
      " [5.  3.6 1.4 0.2]]\n",
      "[0 0 0 0 0]\n"
     ]
    }
   ],
   "source": [
    "from sklearn.model_selection import train_test_split\n",
    "\n",
    "# Leemos conjunto de ejemplos\n",
    "X = iris.data\n",
    "print(X[:5])\n",
    "# Leemos valores de clase para cada ejemplo\n",
    "y = iris.target\n",
    "# imprimimos los 5 primeros \n",
    "print(y[:5])\n",
    "# Separamos el dataset en dos: entrenamiento y evaluación (separación en 70/30)\n",
    "X_train, X_test, y_train, y_test = train_test_split(X, y, test_size=0.30, random_state=0)"
   ]
  },
  {
   "cell_type": "code",
   "execution_count": 30,
   "metadata": {},
   "outputs": [
    {
     "name": "stdout",
     "output_type": "stream",
     "text": [
      "[2 1 0 2 0 2 0 1 1 1 2 1 1 1 1 0 1 1 0 0 2 1 0 0 2 0 0 1 1 0 2 1 0 2 2 1 0\n",
      " 1 1 1 2 0 2 0 0]\n",
      "[2 1 0 2 0 2 0 1 1 1 2 1 1 1 1 0 1 1 0 0 2 1 0 0 2 0 0 1 1 0 2 1 0 2 2 1 0\n",
      " 2 1 1 2 0 2 0 0]\n"
     ]
    }
   ],
   "source": [
    "from sklearn.svm import SVC\n",
    "\n",
    "# Clasificación SVM\n",
    "# Definición del clasificador\n",
    "# separación lineal de las clases, maquina de soporte clásica, un kernel es una transformación del espación. De un espacio hacia a otro \n",
    "# se le llama truco de kernel pues al transfarmar es posible que en el espacio transformado sea más fácil dividir los datos \n",
    "#svm_classifier = SVC(kernel=\"linear\")\n",
    "# Se añade el calculo de probabilidades, solamente sirve para calcular la distancia entre tus datos de entrenamiento con los datos de soporte, generalmente se desactiva pues es más tardada la corrida\n",
    "svm_classifier= SVC(kernel=\"linear\", probability= True)\n",
    "# Entrenamiento del clasificador con lo datos de entrenamiento y valores de clase para cada ejemplo\n",
    "svm_classifier.fit(X_train, y_train)\n",
    "# Predicción con el clasificador entrenado en los datos de evaluación \n",
    "y_predict = svm_classifier.predict(X_test)\n",
    "# No es lo acostumbrado pero podemos visualizar así  para comparar clases verdaderas vs predichas\n",
    "# imprimir los valores verdaderos \n",
    "print(y_test)\n",
    "# imprimir los valores predichos o de clase\n",
    "print(y_predict)"
   ]
  },
  {
   "cell_type": "code",
   "execution_count": 31,
   "metadata": {},
   "outputs": [
    {
     "name": "stdout",
     "output_type": "stream",
     "text": [
      "Accuracy: 0.9777777777777777\n",
      "Precision: 0.9722222222222222\n",
      "Recall: 0.9814814814814815\n",
      "F-score: 0.975983436853002\n"
     ]
    }
   ],
   "source": [
    "# Medidas de rendimiento del clasificador\n",
    "from sklearn.metrics import accuracy_score\n",
    "from sklearn.metrics import f1_score\n",
    "from sklearn.metrics import precision_score\n",
    "from sklearn.metrics import recall_score\n",
    "\n",
    "# Buenos valores de predicción\n",
    "print(\"Accuracy: {}\".format(accuracy_score(y_test, y_predict)))\n",
    "print(\"Precision: {}\".format(precision_score(y_test, y_predict, average=\"macro\")))\n",
    "print(\"Recall: {}\".format(recall_score(y_test, y_predict, average=\"macro\")))\n",
    "# Es el promedio\n",
    "print(\"F-score: {}\".format(f1_score(y_test, y_predict, average=\"macro\")))"
   ]
  },
  {
   "cell_type": "code",
   "execution_count": 32,
   "metadata": {},
   "outputs": [
    {
     "name": "stdout",
     "output_type": "stream",
     "text": [
      "                  precision    recall  f1-score   support\n",
      "\n",
      "     Iris-Setosa       1.00      1.00      1.00        16\n",
      "Iris-Versicolour       1.00      0.94      0.97        18\n",
      "  Iris-Virginica       0.92      1.00      0.96        11\n",
      "\n",
      "        accuracy                           0.98        45\n",
      "       macro avg       0.97      0.98      0.98        45\n",
      "    weighted avg       0.98      0.98      0.98        45\n",
      "\n"
     ]
    }
   ],
   "source": [
    "from sklearn.metrics import classification_report\n",
    "# PAra comparar dos estudios es importante utilizar la misma semilla en ambos\n",
    "target_names = ['Iris-Setosa', 'Iris-Versicolour', 'Iris-Virginica']\n",
    "print(classification_report(y_test, y_predict, target_names=target_names))"
   ]
  },
  {
   "cell_type": "code",
   "execution_count": 33,
   "metadata": {},
   "outputs": [
    {
     "name": "stdout",
     "output_type": "stream",
     "text": [
      "[[16  0  0]\n",
      " [ 0 17  1]\n",
      " [ 0  0 11]]\n"
     ]
    },
    {
     "data": {
      "text/plain": [
       "<sklearn.metrics._plot.confusion_matrix.ConfusionMatrixDisplay at 0x7f8221b61370>"
      ]
     },
     "execution_count": 33,
     "metadata": {},
     "output_type": "execute_result"
    },
    {
     "data": {
      "image/png": "[encoded data removed]",
      "text/plain": [
       "<Figure size 432x288 with 2 Axes>"
      ]
     },
     "metadata": {
      "needs_background": "light"
     },
     "output_type": "display_data"
    }
   ],
   "source": [
    "from sklearn.metrics import confusion_matrix\n",
    "import matplotlib.pyplot as plt\n",
    "from sklearn.metrics import plot_confusion_matrix\n",
    "\n",
    "print(confusion_matrix(y_test, y_predict))\n",
    "plot_confusion_matrix(svm_classifier, X_test, y_test, cmap=plt.cm.Blues, \n",
    "                      display_labels=['Iris-Setosa', 'Iris-Versicolour', 'Iris-Virginica']) "
   ]
  },
  {
   "cell_type": "code",
   "execution_count": 34,
   "metadata": {},
   "outputs": [
    {
     "name": "stdout",
     "output_type": "stream",
     "text": [
      "(45, 4)\n"
     ]
    },
    {
     "data": {
      "text/plain": [
       "(45, 2)"
      ]
     },
     "execution_count": 34,
     "metadata": {},
     "output_type": "execute_result"
    }
   ],
   "source": [
    "from sklearn.manifold import TSNE\n",
    "# Transformación usada para reducir la dimensión y crear un plot en baja dimensión que nos muestre el espacio vectorial en el que estamos trabajando\n",
    "# imprimir las dimensiones que tenemos originalemente que son 45 ejemplos y 4 dimensiones y posteriormente la transformación a 45 ejemplos pero 2 dimensiones\n",
    "print(X_test.shape)\n",
    "# Se aplica con dos componentes y se transforman los datos de evaluación \n",
    "X_test_embedded = TSNE(n_components=2).fit_transform(X_test)\n",
    "X_test_embedded.shape"
   ]
  },
  {
   "cell_type": "code",
   "execution_count": 35,
   "metadata": {},
   "outputs": [
    {
     "data": {
      "text/plain": [
       "<matplotlib.axes._subplots.AxesSubplot at 0x7f8224927d00>"
      ]
     },
     "execution_count": 35,
     "metadata": {},
     "output_type": "execute_result"
    },
    {
     "data": {
      "image/png": "[encoded data removed]",
      "text/plain": [
       "<Figure size 432x288 with 1 Axes>"
      ]
     },
     "metadata": {
      "needs_background": "light"
     },
     "output_type": "display_data"
    }
   ],
   "source": [
    "import pandas as pd\n",
    "import seaborn as sns\n",
    "# se visualiza una reducción en el espacio en donde la clase 0 se encuentra algo separada, la 1 y la 2 están traslapadas pero esta transformación ayuda a visualizar que no es tanto el traslape \n",
    "# hay un punto que confunde el clasificador que está en el grupo de 1 pero pertenece al 2 \n",
    "plt.figure()\n",
    "tsne_result_df = pd.DataFrame({'tsne_1': X_test_embedded[:,0], 'tsne_2': X_test_embedded[:,1], 'label': y_test})\n",
    "sns.scatterplot(x='tsne_1', y='tsne_2', hue='label', data=tsne_result_df)"
   ]
  },
  {
   "cell_type": "code",
   "execution_count": 36,
   "metadata": {},
   "outputs": [
    {
     "name": "stdout",
     "output_type": "stream",
     "text": [
      "[1]\n",
      "[[0.00104495 0.96216342 0.03679163]]\n"
     ]
    }
   ],
   "source": [
    "# Predicción de ejemplo y probabilidades para las clases\n",
    "y_predict= svm_classifier.predict([[10.0,5.0,7.8,0.1]])\n",
    "print(y_predict)\n",
    "\n",
    "\n",
    "# Probabilidades para las clases \n",
    "\n",
    "prob= svm_classifier.predict_proba(([[10.0,5.0,7.8,0.1]]))\n",
    "print(prob)\n"
   ]
  },
  {
   "cell_type": "code",
   "execution_count": 37,
   "metadata": {},
   "outputs": [
    {
     "name": "stdout",
     "output_type": "stream",
     "text": [
      "[ 2  9 10]\n",
      "[46 66  7 21 29 32 34 63 87 88 96  3  9 10 11 12 14 31 44 53 74]\n",
      "[[4.5 2.3 1.3 0.3]\n",
      " [5.1 3.3 1.7 0.5]\n",
      " [6.3 3.3 4.7 1.6]\n",
      " [6.1 3.  4.6 1.4]\n",
      " [6.9 3.1 4.9 1.5]\n",
      " [5.1 2.5 3.  1.1]\n",
      " [6.2 2.2 4.5 1.5]\n",
      " [5.7 2.8 4.5 1.3]\n",
      " [6.3 2.5 4.9 1.5]\n",
      " [6.7 3.  5.  1.7]\n",
      " [5.9 3.2 4.8 1.8]\n",
      " [6.  2.2 5.  1.5]\n",
      " [6.3 2.7 4.9 1.8]\n",
      " [6.3 2.8 5.1 1.5]\n",
      " [4.9 2.5 4.5 1.7]\n",
      " [6.3 2.5 5.  1.9]\n",
      " [6.5 3.  5.2 2. ]\n",
      " [5.9 3.  5.1 1.8]\n",
      " [6.5 3.2 5.1 2. ]\n",
      " [7.2 3.  5.8 1.6]\n",
      " [6.  3.  4.8 1.8]]\n"
     ]
    }
   ],
   "source": [
    "# Numero de vectores de soporte por clase \n",
    "# PAra la clase que mejor se separa solo requirió 2 vectores de soporte, utilizó el 46 y el 66\n",
    "# en un problema de clasificación de proteínas los vectores soporte son las menos prototípicas de su clase pues son las que están en el límite de las otras clases\n",
    "print(svm_classifier.n_support_)\n",
    "\n",
    "#Índices de vectores de soporte \n",
    "print(svm_classifier.support_)\n",
    "\n",
    "# Vectores de soporte \n",
    "print(svm_classifier.support_vectors_)\n"
   ]
  },
  {
   "cell_type": "code",
   "execution_count": 39,
   "metadata": {},
   "outputs": [
    {
     "name": "stdout",
     "output_type": "stream",
     "text": [
      "[4.5 2.3 1.3 0.3]\n",
      "[5.1 3.3 1.7 0.5]\n"
     ]
    }
   ],
   "source": [
    "# vectores soporte para la clase cetosa\n",
    "print(X_train[46])\n",
    "print(X_train[66])"
   ]
  },
  {
   "cell_type": "code",
   "execution_count": 38,
   "metadata": {},
   "outputs": [
    {
     "data": {
      "text/plain": [
       "{'C': 1.0,\n",
       " 'break_ties': False,\n",
       " 'cache_size': 200,\n",
       " 'class_weight': None,\n",
       " 'coef0': 0.0,\n",
       " 'decision_function_shape': 'ovr',\n",
       " 'degree': 3,\n",
       " 'gamma': 'scale',\n",
       " 'kernel': 'linear',\n",
       " 'max_iter': -1,\n",
       " 'probability': True,\n",
       " 'random_state': None,\n",
       " 'shrinking': True,\n",
       " 'tol': 0.001,\n",
       " 'verbose': False}"
      ]
     },
     "execution_count": 38,
     "metadata": {},
     "output_type": "execute_result"
    }
   ],
   "source": [
    "# Hiperparámetros del modelo SVM\n",
    "# Son parametros de funciones que yo puedo cambiar para mejorar el entrenamiento \n",
    "# kernel lineal\n",
    "# proabbilidad \n",
    "# \"C\" puede aumentar o disminuir, es un un valor por el que se multiplican aquellos puntos que caen adentro del margen de decisión \n",
    "# Puedes penalizar mucho aquellos ejemplos que queden mal clasificados, si queremos una SVM que clasifique relativamente bien pero que no sea tan estrictamente buena, lo disminuimos \n",
    "# Si lo creces mucho entonces sobreajustas el modelo (overfitting), predices muy bien tus datos de entrenamiento pero nuevos datos predicen mal (lo puedes subir a 1000 pero tus datos de evaluación cae tu score \n",
    "# overfitting: score de entrenamiento muy alto pero score de evaluación muy bajo )\n",
    "# Afinación de hiperparametros es probar muchos valores de C para ver con cual valor predice mejor la máquina \n",
    "# El desbalance, cambias metrica de evaluación a una geométrica, oversamppling, reduciendo dimensionalidades, creando vectores artificiales \n",
    "svm_classifier.get_params()"
   ]
  },
  {
   "cell_type": "markdown",
   "metadata": {},
   "source": [
    "# Red neuronal convulusional \n",
    "\n",
    "[notebook github 01 y 05 ejemplo perros](https://github.com/fastai/fastbook/tree/master/clean)\n",
    "\n",
    "[A comprehensive guide to convolutional Neural networks the ELI5 way](https://towardsdatascience.com/a-comprehensive-guide-to-convolutional-neural-networks-the-eli5-way-3bd2b1164a53notebook github 01 y 05 ejemplo perros)\n",
    "\n",
    "4 capas \n",
    "- dos convolusionales \n",
    "- dos pooling \n",
    "\n",
    "Convolution+relu: toman los bordes de la figura \n",
    "pooling \n",
    "\n",
    "Convolution+relu:\n",
    "pooling \n",
    "\n",
    "Capa de aplanado: convierte la matriz en un vector \n",
    "Capa fully connected: todos los nodos están conectados con todos \n",
    "Softmax: convierte en números continuos float que representan ciertos umbrales y con ello predcimos la categoría, coche, van, truck\n",
    "\n",
    "Funcion de relu te da un valor de 0 a 1 \n",
    "pooling te da una capa que te da una representación matricial final \n",
    "\n",
    "\n",
    "# Proyecto \n",
    "\n",
    "Aplicar clasificación al dataset de kaggle mushroom classification \n",
    "\n",
    "class venenosos o ocomestible \n",
    "con dichas características predecir la clase \n",
    "8124 hongos \n",
    "1. Entender el data set \n",
    "[dataset kaggel mushroom](https://www.kaggle.com/uciml/mushroom-classification)\n",
    "2. Hacer estadística para ver qué valores tienen los atributos, cuantos son  \n",
    "3. Notebook en donde se usen los dos clasificadores que utilizamos \n",
    "4. Cómo convertir los caracteres a números para crear los vectores\n",
    "    - \n"
   ]
  }
 ],
 "metadata": {
  "kernelspec": {
   "display_name": "Python 3",
   "language": "python",
   "name": "python3"
  },
  "language_info": {
   "codemirror_mode": {
    "name": "ipython",
    "version": 3
   },
   "file_extension": ".py",
   "mimetype": "text/x-python",
   "name": "python",
   "nbconvert_exporter": "python",
   "pygments_lexer": "ipython3",
   "version": "3.8.3"
  }
 },
 "nbformat": 4,
 "nbformat_minor": 4
}
